{
 "nbformat": 4,
 "nbformat_minor": 0,
 "metadata": {
  "colab": {
   "name": "modeling.ipynb",
   "provenance": [],
   "collapsed_sections": []
  },
  "kernelspec": {
   "name": "python3",
   "display_name": "Python 3"
  },
  "language_info": {
   "name": "python"
  }
 },
 "cells": [
  {
   "cell_type": "markdown",
   "source": [
    "Cont. from Task 1(Exploratory Data Analysis)\n",
    "# Task 2 - Modeling\n",
    "## Section 6 - Importing Modules to be used"
   ],
   "metadata": {
    "id": "8rG0LrLjZ3gX",
    "pycharm": {
     "name": "#%% md\n"
    }
   }
  },
  {
   "cell_type": "code",
   "execution_count": 43,
   "outputs": [],
   "source": [
    "import pandas as pd\n",
    "import numpy as np\n",
    "import matplotlib.pyplot as plt\n",
    "%matplotlib inline"
   ],
   "metadata": {
    "collapsed": false,
    "pycharm": {
     "name": "#%%\n"
    }
   }
  },
  {
   "cell_type": "markdown",
   "source": [
    "---\n",
    "\n",
    "## Section 7 - Data loading\n",
    "\n",
    "Similar to before, let's load our data from the 3 datasets provided\n",
    "Loading `sample_sales_data.csv`,`sensor_stock_levels`,`sensor_storage_temperature` dataset so that we can work with them in Python. For this notebook and all further notebooks, it will be assumed that the CSV files will the placed in the same file location as the notebook. If they are not, please adjust the directory within the read_csv method accordingly."
   ],
   "metadata": {
    "id": "ncPFYiD_abg4",
    "pycharm": {
     "name": "#%% md\n"
    }
   }
  },
  {
   "cell_type": "code",
   "execution_count": 44,
   "outputs": [],
   "source": [
    "sales_data = pd.read_csv(r\"C:\\Users\\Mr.Hassan\\DataspellProjects\\Gala Foods\\sales.csv\")\n",
    "sensor_storage_temperature = pd.read_csv(r\"C:\\Users\\Mr.Hassan\\DataspellProjects\\Gala Foods\\sensor_storage_temperature.csv\")\n",
    "sensor_stock_levels = pd.read_csv(r\"C:\\Users\\Mr.Hassan\\DataspellProjects\\Gala Foods\\sensor_stock_levels.csv\")"
   ],
   "metadata": {
    "collapsed": false,
    "pycharm": {
     "name": "#%%\n"
    }
   }
  },
  {
   "cell_type": "code",
   "execution_count": 45,
   "outputs": [
    {
     "data": {
      "text/plain": "                            transaction_id            timestamp  \\\n0     a1c82654-c52c-45b3-8ce8-4c2a1efe63ed  2022-03-02 09:51:38   \n1     931ad550-09e8-4da6-beaa-8c9d17be9c60  2022-03-06 10:33:59   \n2     ae133534-6f61-4cd6-b6b8-d1c1d8d90aea  2022-03-04 17:20:21   \n3     157cebd9-aaf0-475d-8a11-7c8e0f5b76e4  2022-03-02 17:23:58   \n4     a81a6cd3-5e0c-44a2-826c-aea43e46c514  2022-03-05 14:32:43   \n...                                    ...                  ...   \n7824  6c19b9fc-f86d-4526-9dfe-d8027a4d13ee  2022-03-03 18:22:09   \n7825  1c69824b-e399-4b79-a5e7-04a3a7db0681  2022-03-04 19:14:46   \n7826  79aee7d6-1405-4345-9a15-92541e9e1e74  2022-03-03 14:00:09   \n7827  e5cc4f88-e5b7-4ad5-bc1b-12a828a14f55  2022-03-04 15:11:38   \n7828  afd70b4f-ee21-402d-8d8f-0d9e13c2bea6  2022-03-06 13:50:36   \n\n                                product_id           category customer_type  \\\n0     3bc6c1ea-0198-46de-9ffd-514ae3338713              fruit          gold   \n1     ad81b46c-bf38-41cf-9b54-5fe7f5eba93e              fruit      standard   \n2     7c55cbd4-f306-4c04-a030-628cbe7867c1              fruit       premium   \n3     80da8348-1707-403f-8be7-9e6deeccc883              fruit          gold   \n4     7f5e86e6-f06f-45f6-bf44-27b095c9ad1d              fruit         basic   \n...                                    ...                ...           ...   \n7824  bc6187a9-d508-482b-9ca6-590d1cc7524f  cleaning products         basic   \n7825  707e4237-191c-4cc9-85af-383a6c1cb2ab  cleaning products      standard   \n7826  a9325c1a-2715-41df-b7f4-3078fa5ecd97  cleaning products         basic   \n7827  707e4237-191c-4cc9-85af-383a6c1cb2ab  cleaning products         basic   \n7828  d6ccd088-11be-4c25-aa1f-ea87c01a04db  cleaning products    non-member   \n\n      unit_price  quantity  total payment_type  \n0           3.99         2   7.98     e-wallet  \n1           3.99         1   3.99     e-wallet  \n2           0.19         2   0.38     e-wallet  \n3           0.19         4   0.76     e-wallet  \n4           4.49         2   8.98   debit card  \n...          ...       ...    ...          ...  \n7824       14.19         2  28.38     e-wallet  \n7825       16.99         1  16.99  credit card  \n7826       14.19         2  28.38  credit card  \n7827       16.99         4  67.96         cash  \n7828       14.99         4  59.96   debit card  \n\n[7829 rows x 9 columns]",
      "text/html": "<div>\n<style scoped>\n    .dataframe tbody tr th:only-of-type {\n        vertical-align: middle;\n    }\n\n    .dataframe tbody tr th {\n        vertical-align: top;\n    }\n\n    .dataframe thead th {\n        text-align: right;\n    }\n</style>\n<table border=\"1\" class=\"dataframe\">\n  <thead>\n    <tr style=\"text-align: right;\">\n      <th></th>\n      <th>transaction_id</th>\n      <th>timestamp</th>\n      <th>product_id</th>\n      <th>category</th>\n      <th>customer_type</th>\n      <th>unit_price</th>\n      <th>quantity</th>\n      <th>total</th>\n      <th>payment_type</th>\n    </tr>\n  </thead>\n  <tbody>\n    <tr>\n      <th>0</th>\n      <td>a1c82654-c52c-45b3-8ce8-4c2a1efe63ed</td>\n      <td>2022-03-02 09:51:38</td>\n      <td>3bc6c1ea-0198-46de-9ffd-514ae3338713</td>\n      <td>fruit</td>\n      <td>gold</td>\n      <td>3.99</td>\n      <td>2</td>\n      <td>7.98</td>\n      <td>e-wallet</td>\n    </tr>\n    <tr>\n      <th>1</th>\n      <td>931ad550-09e8-4da6-beaa-8c9d17be9c60</td>\n      <td>2022-03-06 10:33:59</td>\n      <td>ad81b46c-bf38-41cf-9b54-5fe7f5eba93e</td>\n      <td>fruit</td>\n      <td>standard</td>\n      <td>3.99</td>\n      <td>1</td>\n      <td>3.99</td>\n      <td>e-wallet</td>\n    </tr>\n    <tr>\n      <th>2</th>\n      <td>ae133534-6f61-4cd6-b6b8-d1c1d8d90aea</td>\n      <td>2022-03-04 17:20:21</td>\n      <td>7c55cbd4-f306-4c04-a030-628cbe7867c1</td>\n      <td>fruit</td>\n      <td>premium</td>\n      <td>0.19</td>\n      <td>2</td>\n      <td>0.38</td>\n      <td>e-wallet</td>\n    </tr>\n    <tr>\n      <th>3</th>\n      <td>157cebd9-aaf0-475d-8a11-7c8e0f5b76e4</td>\n      <td>2022-03-02 17:23:58</td>\n      <td>80da8348-1707-403f-8be7-9e6deeccc883</td>\n      <td>fruit</td>\n      <td>gold</td>\n      <td>0.19</td>\n      <td>4</td>\n      <td>0.76</td>\n      <td>e-wallet</td>\n    </tr>\n    <tr>\n      <th>4</th>\n      <td>a81a6cd3-5e0c-44a2-826c-aea43e46c514</td>\n      <td>2022-03-05 14:32:43</td>\n      <td>7f5e86e6-f06f-45f6-bf44-27b095c9ad1d</td>\n      <td>fruit</td>\n      <td>basic</td>\n      <td>4.49</td>\n      <td>2</td>\n      <td>8.98</td>\n      <td>debit card</td>\n    </tr>\n    <tr>\n      <th>...</th>\n      <td>...</td>\n      <td>...</td>\n      <td>...</td>\n      <td>...</td>\n      <td>...</td>\n      <td>...</td>\n      <td>...</td>\n      <td>...</td>\n      <td>...</td>\n    </tr>\n    <tr>\n      <th>7824</th>\n      <td>6c19b9fc-f86d-4526-9dfe-d8027a4d13ee</td>\n      <td>2022-03-03 18:22:09</td>\n      <td>bc6187a9-d508-482b-9ca6-590d1cc7524f</td>\n      <td>cleaning products</td>\n      <td>basic</td>\n      <td>14.19</td>\n      <td>2</td>\n      <td>28.38</td>\n      <td>e-wallet</td>\n    </tr>\n    <tr>\n      <th>7825</th>\n      <td>1c69824b-e399-4b79-a5e7-04a3a7db0681</td>\n      <td>2022-03-04 19:14:46</td>\n      <td>707e4237-191c-4cc9-85af-383a6c1cb2ab</td>\n      <td>cleaning products</td>\n      <td>standard</td>\n      <td>16.99</td>\n      <td>1</td>\n      <td>16.99</td>\n      <td>credit card</td>\n    </tr>\n    <tr>\n      <th>7826</th>\n      <td>79aee7d6-1405-4345-9a15-92541e9e1e74</td>\n      <td>2022-03-03 14:00:09</td>\n      <td>a9325c1a-2715-41df-b7f4-3078fa5ecd97</td>\n      <td>cleaning products</td>\n      <td>basic</td>\n      <td>14.19</td>\n      <td>2</td>\n      <td>28.38</td>\n      <td>credit card</td>\n    </tr>\n    <tr>\n      <th>7827</th>\n      <td>e5cc4f88-e5b7-4ad5-bc1b-12a828a14f55</td>\n      <td>2022-03-04 15:11:38</td>\n      <td>707e4237-191c-4cc9-85af-383a6c1cb2ab</td>\n      <td>cleaning products</td>\n      <td>basic</td>\n      <td>16.99</td>\n      <td>4</td>\n      <td>67.96</td>\n      <td>cash</td>\n    </tr>\n    <tr>\n      <th>7828</th>\n      <td>afd70b4f-ee21-402d-8d8f-0d9e13c2bea6</td>\n      <td>2022-03-06 13:50:36</td>\n      <td>d6ccd088-11be-4c25-aa1f-ea87c01a04db</td>\n      <td>cleaning products</td>\n      <td>non-member</td>\n      <td>14.99</td>\n      <td>4</td>\n      <td>59.96</td>\n      <td>debit card</td>\n    </tr>\n  </tbody>\n</table>\n<p>7829 rows × 9 columns</p>\n</div>"
     },
     "execution_count": 45,
     "metadata": {},
     "output_type": "execute_result"
    }
   ],
   "source": [
    "sales_data.drop(columns=[\"Unnamed: 0\"],inplace=True)\n",
    "sales_data"
   ],
   "metadata": {
    "collapsed": false,
    "pycharm": {
     "name": "#%%\n"
    }
   }
  },
  {
   "cell_type": "code",
   "execution_count": 46,
   "outputs": [
    {
     "data": {
      "text/plain": "                                         id            timestamp  \\\n0      4220e505-c247-478d-9831-6b9f87a4488a  2022-03-07 12:13:02   \n1      f2612b26-fc82-49ea-8940-0751fdd4d9ef  2022-03-07 16:39:46   \n2      989a287f-67e6-4478-aa49-c3a35dac0e2e  2022-03-01 18:17:43   \n3      af8e5683-d247-46ac-9909-1a77bdebefb2  2022-03-02 14:29:09   \n4      08a32247-3f44-4002-85fb-c198434dd4bb  2022-03-02 13:46:18   \n...                                     ...                  ...   \n14995  b9bf6788-09f3-490b-959b-dc5b55edb4b6  2022-03-04 10:52:50   \n14996  9ff1cc01-020f-491a-bafd-13552dccff44  2022-03-02 12:25:48   \n14997  4d8101de-e8a2-4af9-9764-7a3a22aa7084  2022-03-03 17:36:44   \n14998  5f2a7b1e-b3c4-4395-8425-c960e22f701d  2022-03-02 19:42:47   \n14999  af6f4493-e49d-4dcb-951d-308e6cce267b  2022-03-06 17:18:27   \n\n                                 product_id  estimated_stock_pct  \n0      f658605e-75f3-4fed-a655-c0903f344427                 0.75  \n1      de06083a-f5c0-451d-b2f4-9ab88b52609d                 0.48  \n2      ce8f3a04-d1a4-43b1-a7c2-fa1b8e7674c8                 0.58  \n3      c21e3ba9-92a3-4745-92c2-6faef73223f7                 0.79  \n4      7f478817-aa5b-44e9-9059-8045228c9eb0                 0.22  \n...                                     ...                  ...  \n14995  e37658de-3649-4ddb-9c73-b868dd69d3fe                 0.66  \n14996  fbeb39cc-8cd0-4143-bdfb-77658a02dec9                 0.99  \n14997  8e21dcec-d775-4969-8334-05a37a5fd189                 0.72  \n14998  9708cf5b-aa69-4320-a013-9d234c40e63f                 0.95  \n14999  3bc6c1ea-0198-46de-9ffd-514ae3338713                 0.75  \n\n[15000 rows x 4 columns]",
      "text/html": "<div>\n<style scoped>\n    .dataframe tbody tr th:only-of-type {\n        vertical-align: middle;\n    }\n\n    .dataframe tbody tr th {\n        vertical-align: top;\n    }\n\n    .dataframe thead th {\n        text-align: right;\n    }\n</style>\n<table border=\"1\" class=\"dataframe\">\n  <thead>\n    <tr style=\"text-align: right;\">\n      <th></th>\n      <th>id</th>\n      <th>timestamp</th>\n      <th>product_id</th>\n      <th>estimated_stock_pct</th>\n    </tr>\n  </thead>\n  <tbody>\n    <tr>\n      <th>0</th>\n      <td>4220e505-c247-478d-9831-6b9f87a4488a</td>\n      <td>2022-03-07 12:13:02</td>\n      <td>f658605e-75f3-4fed-a655-c0903f344427</td>\n      <td>0.75</td>\n    </tr>\n    <tr>\n      <th>1</th>\n      <td>f2612b26-fc82-49ea-8940-0751fdd4d9ef</td>\n      <td>2022-03-07 16:39:46</td>\n      <td>de06083a-f5c0-451d-b2f4-9ab88b52609d</td>\n      <td>0.48</td>\n    </tr>\n    <tr>\n      <th>2</th>\n      <td>989a287f-67e6-4478-aa49-c3a35dac0e2e</td>\n      <td>2022-03-01 18:17:43</td>\n      <td>ce8f3a04-d1a4-43b1-a7c2-fa1b8e7674c8</td>\n      <td>0.58</td>\n    </tr>\n    <tr>\n      <th>3</th>\n      <td>af8e5683-d247-46ac-9909-1a77bdebefb2</td>\n      <td>2022-03-02 14:29:09</td>\n      <td>c21e3ba9-92a3-4745-92c2-6faef73223f7</td>\n      <td>0.79</td>\n    </tr>\n    <tr>\n      <th>4</th>\n      <td>08a32247-3f44-4002-85fb-c198434dd4bb</td>\n      <td>2022-03-02 13:46:18</td>\n      <td>7f478817-aa5b-44e9-9059-8045228c9eb0</td>\n      <td>0.22</td>\n    </tr>\n    <tr>\n      <th>...</th>\n      <td>...</td>\n      <td>...</td>\n      <td>...</td>\n      <td>...</td>\n    </tr>\n    <tr>\n      <th>14995</th>\n      <td>b9bf6788-09f3-490b-959b-dc5b55edb4b6</td>\n      <td>2022-03-04 10:52:50</td>\n      <td>e37658de-3649-4ddb-9c73-b868dd69d3fe</td>\n      <td>0.66</td>\n    </tr>\n    <tr>\n      <th>14996</th>\n      <td>9ff1cc01-020f-491a-bafd-13552dccff44</td>\n      <td>2022-03-02 12:25:48</td>\n      <td>fbeb39cc-8cd0-4143-bdfb-77658a02dec9</td>\n      <td>0.99</td>\n    </tr>\n    <tr>\n      <th>14997</th>\n      <td>4d8101de-e8a2-4af9-9764-7a3a22aa7084</td>\n      <td>2022-03-03 17:36:44</td>\n      <td>8e21dcec-d775-4969-8334-05a37a5fd189</td>\n      <td>0.72</td>\n    </tr>\n    <tr>\n      <th>14998</th>\n      <td>5f2a7b1e-b3c4-4395-8425-c960e22f701d</td>\n      <td>2022-03-02 19:42:47</td>\n      <td>9708cf5b-aa69-4320-a013-9d234c40e63f</td>\n      <td>0.95</td>\n    </tr>\n    <tr>\n      <th>14999</th>\n      <td>af6f4493-e49d-4dcb-951d-308e6cce267b</td>\n      <td>2022-03-06 17:18:27</td>\n      <td>3bc6c1ea-0198-46de-9ffd-514ae3338713</td>\n      <td>0.75</td>\n    </tr>\n  </tbody>\n</table>\n<p>15000 rows × 4 columns</p>\n</div>"
     },
     "execution_count": 46,
     "metadata": {},
     "output_type": "execute_result"
    }
   ],
   "source": [
    "sensor_stock_levels.drop(columns=[\"Unnamed: 0\"],inplace=True)\n",
    "sensor_stock_levels"
   ],
   "metadata": {
    "collapsed": false,
    "pycharm": {
     "name": "#%%\n"
    }
   }
  },
  {
   "cell_type": "code",
   "execution_count": 47,
   "outputs": [
    {
     "data": {
      "text/plain": "                                         id            timestamp  temperature\n0      d1ca1ef8-0eac-42fc-af80-97106efc7b13  2022-03-07 15:55:20         2.96\n1      4b8a66c4-0f3a-4f16-826f-8cf9397e9d18  2022-03-01 09:18:22         1.88\n2      3d47a0c7-1e72-4512-812f-b6b5d8428cf3  2022-03-04 15:12:26         1.78\n3      9500357b-ce15-424a-837a-7677b386f471  2022-03-02 12:30:42         2.18\n4      c4b61fec-99c2-4c6d-8e5d-4edd8c9632fa  2022-03-05 09:09:33         1.38\n...                                     ...                  ...          ...\n23885  17bcff56-9965-4e9f-ad5f-107f0f3be93f  2022-03-01 10:40:43        -1.46\n23886  51d4eb44-04bd-4d6a-b777-0653bc173303  2022-03-05 17:07:49       -19.37\n23887  bbcacfc4-3b59-47ee-b9e1-7dd3bd588748  2022-03-01 16:15:41        -2.89\n23888  5c4d567b-4bcf-4fcd-86b7-e2db5de6e439  2022-03-07 14:44:52        -2.56\n23889  589c28e1-f1f3-4efb-af6d-9f194c4d7d5b  2022-03-01 16:33:41         0.13\n\n[23890 rows x 3 columns]",
      "text/html": "<div>\n<style scoped>\n    .dataframe tbody tr th:only-of-type {\n        vertical-align: middle;\n    }\n\n    .dataframe tbody tr th {\n        vertical-align: top;\n    }\n\n    .dataframe thead th {\n        text-align: right;\n    }\n</style>\n<table border=\"1\" class=\"dataframe\">\n  <thead>\n    <tr style=\"text-align: right;\">\n      <th></th>\n      <th>id</th>\n      <th>timestamp</th>\n      <th>temperature</th>\n    </tr>\n  </thead>\n  <tbody>\n    <tr>\n      <th>0</th>\n      <td>d1ca1ef8-0eac-42fc-af80-97106efc7b13</td>\n      <td>2022-03-07 15:55:20</td>\n      <td>2.96</td>\n    </tr>\n    <tr>\n      <th>1</th>\n      <td>4b8a66c4-0f3a-4f16-826f-8cf9397e9d18</td>\n      <td>2022-03-01 09:18:22</td>\n      <td>1.88</td>\n    </tr>\n    <tr>\n      <th>2</th>\n      <td>3d47a0c7-1e72-4512-812f-b6b5d8428cf3</td>\n      <td>2022-03-04 15:12:26</td>\n      <td>1.78</td>\n    </tr>\n    <tr>\n      <th>3</th>\n      <td>9500357b-ce15-424a-837a-7677b386f471</td>\n      <td>2022-03-02 12:30:42</td>\n      <td>2.18</td>\n    </tr>\n    <tr>\n      <th>4</th>\n      <td>c4b61fec-99c2-4c6d-8e5d-4edd8c9632fa</td>\n      <td>2022-03-05 09:09:33</td>\n      <td>1.38</td>\n    </tr>\n    <tr>\n      <th>...</th>\n      <td>...</td>\n      <td>...</td>\n      <td>...</td>\n    </tr>\n    <tr>\n      <th>23885</th>\n      <td>17bcff56-9965-4e9f-ad5f-107f0f3be93f</td>\n      <td>2022-03-01 10:40:43</td>\n      <td>-1.46</td>\n    </tr>\n    <tr>\n      <th>23886</th>\n      <td>51d4eb44-04bd-4d6a-b777-0653bc173303</td>\n      <td>2022-03-05 17:07:49</td>\n      <td>-19.37</td>\n    </tr>\n    <tr>\n      <th>23887</th>\n      <td>bbcacfc4-3b59-47ee-b9e1-7dd3bd588748</td>\n      <td>2022-03-01 16:15:41</td>\n      <td>-2.89</td>\n    </tr>\n    <tr>\n      <th>23888</th>\n      <td>5c4d567b-4bcf-4fcd-86b7-e2db5de6e439</td>\n      <td>2022-03-07 14:44:52</td>\n      <td>-2.56</td>\n    </tr>\n    <tr>\n      <th>23889</th>\n      <td>589c28e1-f1f3-4efb-af6d-9f194c4d7d5b</td>\n      <td>2022-03-01 16:33:41</td>\n      <td>0.13</td>\n    </tr>\n  </tbody>\n</table>\n<p>23890 rows × 3 columns</p>\n</div>"
     },
     "execution_count": 47,
     "metadata": {},
     "output_type": "execute_result"
    }
   ],
   "source": [
    "sensor_storage_temperature.drop(columns=[\"Unnamed: 0\"],inplace=True)\n",
    "sensor_storage_temperature"
   ],
   "metadata": {
    "collapsed": false,
    "pycharm": {
     "name": "#%%\n"
    }
   }
  },
  {
   "cell_type": "markdown",
   "source": [
    "---\n",
    "\n",
    "## Section 8 - Descriptive Statistics\n",
    "In this section, we try to gain a description of the data, that is: what columns are present, how many null values exist and what data types exists within each column."
   ],
   "metadata": {
    "collapsed": false,
    "pycharm": {
     "name": "#%% md\n"
    }
   }
  },
  {
   "cell_type": "markdown",
   "source": [
    "- SALES DATA"
   ],
   "metadata": {
    "collapsed": false,
    "pycharm": {
     "name": "#%% md\n"
    }
   }
  },
  {
   "cell_type": "code",
   "execution_count": 48,
   "outputs": [
    {
     "name": "stdout",
     "output_type": "stream",
     "text": [
      "<class 'pandas.core.frame.DataFrame'>\n",
      "RangeIndex: 7829 entries, 0 to 7828\n",
      "Data columns (total 9 columns):\n",
      " #   Column          Non-Null Count  Dtype  \n",
      "---  ------          --------------  -----  \n",
      " 0   transaction_id  7829 non-null   object \n",
      " 1   timestamp       7829 non-null   object \n",
      " 2   product_id      7829 non-null   object \n",
      " 3   category        7829 non-null   object \n",
      " 4   customer_type   7829 non-null   object \n",
      " 5   unit_price      7829 non-null   float64\n",
      " 6   quantity        7829 non-null   int64  \n",
      " 7   total           7829 non-null   float64\n",
      " 8   payment_type    7829 non-null   object \n",
      "dtypes: float64(2), int64(1), object(6)\n",
      "memory usage: 550.6+ KB\n"
     ]
    }
   ],
   "source": [
    "sales_data.info()"
   ],
   "metadata": {
    "collapsed": false,
    "pycharm": {
     "name": "#%%\n"
    }
   }
  },
  {
   "cell_type": "code",
   "execution_count": 49,
   "outputs": [
    {
     "data": {
      "text/plain": "        unit_price     quantity        total\ncount  7829.000000  7829.000000  7829.000000\nmean      7.819480     2.501597    19.709905\nstd       5.388088     1.122722    17.446680\nmin       0.190000     1.000000     0.190000\n25%       3.990000     1.000000     6.570000\n50%       7.190000     3.000000    14.970000\n75%      11.190000     4.000000    28.470000\nmax      23.990000     4.000000    95.960000",
      "text/html": "<div>\n<style scoped>\n    .dataframe tbody tr th:only-of-type {\n        vertical-align: middle;\n    }\n\n    .dataframe tbody tr th {\n        vertical-align: top;\n    }\n\n    .dataframe thead th {\n        text-align: right;\n    }\n</style>\n<table border=\"1\" class=\"dataframe\">\n  <thead>\n    <tr style=\"text-align: right;\">\n      <th></th>\n      <th>unit_price</th>\n      <th>quantity</th>\n      <th>total</th>\n    </tr>\n  </thead>\n  <tbody>\n    <tr>\n      <th>count</th>\n      <td>7829.000000</td>\n      <td>7829.000000</td>\n      <td>7829.000000</td>\n    </tr>\n    <tr>\n      <th>mean</th>\n      <td>7.819480</td>\n      <td>2.501597</td>\n      <td>19.709905</td>\n    </tr>\n    <tr>\n      <th>std</th>\n      <td>5.388088</td>\n      <td>1.122722</td>\n      <td>17.446680</td>\n    </tr>\n    <tr>\n      <th>min</th>\n      <td>0.190000</td>\n      <td>1.000000</td>\n      <td>0.190000</td>\n    </tr>\n    <tr>\n      <th>25%</th>\n      <td>3.990000</td>\n      <td>1.000000</td>\n      <td>6.570000</td>\n    </tr>\n    <tr>\n      <th>50%</th>\n      <td>7.190000</td>\n      <td>3.000000</td>\n      <td>14.970000</td>\n    </tr>\n    <tr>\n      <th>75%</th>\n      <td>11.190000</td>\n      <td>4.000000</td>\n      <td>28.470000</td>\n    </tr>\n    <tr>\n      <th>max</th>\n      <td>23.990000</td>\n      <td>4.000000</td>\n      <td>95.960000</td>\n    </tr>\n  </tbody>\n</table>\n</div>"
     },
     "execution_count": 49,
     "metadata": {},
     "output_type": "execute_result"
    }
   ],
   "source": [
    "sales_data.describe()"
   ],
   "metadata": {
    "collapsed": false,
    "pycharm": {
     "name": "#%%\n"
    }
   }
  },
  {
   "cell_type": "markdown",
   "source": [
    "- sensor stock data"
   ],
   "metadata": {
    "collapsed": false,
    "pycharm": {
     "name": "#%% md\n"
    }
   }
  },
  {
   "cell_type": "code",
   "execution_count": 50,
   "outputs": [
    {
     "name": "stdout",
     "output_type": "stream",
     "text": [
      "<class 'pandas.core.frame.DataFrame'>\n",
      "RangeIndex: 15000 entries, 0 to 14999\n",
      "Data columns (total 4 columns):\n",
      " #   Column               Non-Null Count  Dtype  \n",
      "---  ------               --------------  -----  \n",
      " 0   id                   15000 non-null  object \n",
      " 1   timestamp            15000 non-null  object \n",
      " 2   product_id           15000 non-null  object \n",
      " 3   estimated_stock_pct  15000 non-null  float64\n",
      "dtypes: float64(1), object(3)\n",
      "memory usage: 468.9+ KB\n"
     ]
    }
   ],
   "source": [
    "sensor_stock_levels.info()"
   ],
   "metadata": {
    "collapsed": false,
    "pycharm": {
     "name": "#%%\n"
    }
   }
  },
  {
   "cell_type": "code",
   "execution_count": 51,
   "outputs": [
    {
     "data": {
      "text/plain": "       estimated_stock_pct\ncount         15000.000000\nmean              0.502735\nstd               0.286842\nmin               0.010000\n25%               0.260000\n50%               0.500000\n75%               0.750000\nmax               1.000000",
      "text/html": "<div>\n<style scoped>\n    .dataframe tbody tr th:only-of-type {\n        vertical-align: middle;\n    }\n\n    .dataframe tbody tr th {\n        vertical-align: top;\n    }\n\n    .dataframe thead th {\n        text-align: right;\n    }\n</style>\n<table border=\"1\" class=\"dataframe\">\n  <thead>\n    <tr style=\"text-align: right;\">\n      <th></th>\n      <th>estimated_stock_pct</th>\n    </tr>\n  </thead>\n  <tbody>\n    <tr>\n      <th>count</th>\n      <td>15000.000000</td>\n    </tr>\n    <tr>\n      <th>mean</th>\n      <td>0.502735</td>\n    </tr>\n    <tr>\n      <th>std</th>\n      <td>0.286842</td>\n    </tr>\n    <tr>\n      <th>min</th>\n      <td>0.010000</td>\n    </tr>\n    <tr>\n      <th>25%</th>\n      <td>0.260000</td>\n    </tr>\n    <tr>\n      <th>50%</th>\n      <td>0.500000</td>\n    </tr>\n    <tr>\n      <th>75%</th>\n      <td>0.750000</td>\n    </tr>\n    <tr>\n      <th>max</th>\n      <td>1.000000</td>\n    </tr>\n  </tbody>\n</table>\n</div>"
     },
     "execution_count": 51,
     "metadata": {},
     "output_type": "execute_result"
    }
   ],
   "source": [
    "sensor_stock_levels.describe()"
   ],
   "metadata": {
    "collapsed": false,
    "pycharm": {
     "name": "#%%\n"
    }
   }
  },
  {
   "cell_type": "markdown",
   "source": [
    "- sensor storage temperature"
   ],
   "metadata": {
    "collapsed": false,
    "pycharm": {
     "name": "#%% md\n"
    }
   }
  },
  {
   "cell_type": "code",
   "execution_count": 52,
   "outputs": [
    {
     "name": "stdout",
     "output_type": "stream",
     "text": [
      "<class 'pandas.core.frame.DataFrame'>\n",
      "RangeIndex: 23890 entries, 0 to 23889\n",
      "Data columns (total 3 columns):\n",
      " #   Column       Non-Null Count  Dtype  \n",
      "---  ------       --------------  -----  \n",
      " 0   id           23890 non-null  object \n",
      " 1   timestamp    23890 non-null  object \n",
      " 2   temperature  23890 non-null  float64\n",
      "dtypes: float64(1), object(2)\n",
      "memory usage: 560.0+ KB\n"
     ]
    }
   ],
   "source": [
    "sensor_storage_temperature.info()"
   ],
   "metadata": {
    "collapsed": false,
    "pycharm": {
     "name": "#%%\n"
    }
   }
  },
  {
   "cell_type": "code",
   "execution_count": 53,
   "outputs": [
    {
     "data": {
      "text/plain": "        temperature\ncount  23890.000000\nmean      -0.207075\nstd       11.217649\nmin      -30.990000\n25%       -2.860000\n50%       -1.000000\n75%        1.840000\nmax       34.990000",
      "text/html": "<div>\n<style scoped>\n    .dataframe tbody tr th:only-of-type {\n        vertical-align: middle;\n    }\n\n    .dataframe tbody tr th {\n        vertical-align: top;\n    }\n\n    .dataframe thead th {\n        text-align: right;\n    }\n</style>\n<table border=\"1\" class=\"dataframe\">\n  <thead>\n    <tr style=\"text-align: right;\">\n      <th></th>\n      <th>temperature</th>\n    </tr>\n  </thead>\n  <tbody>\n    <tr>\n      <th>count</th>\n      <td>23890.000000</td>\n    </tr>\n    <tr>\n      <th>mean</th>\n      <td>-0.207075</td>\n    </tr>\n    <tr>\n      <th>std</th>\n      <td>11.217649</td>\n    </tr>\n    <tr>\n      <th>min</th>\n      <td>-30.990000</td>\n    </tr>\n    <tr>\n      <th>25%</th>\n      <td>-2.860000</td>\n    </tr>\n    <tr>\n      <th>50%</th>\n      <td>-1.000000</td>\n    </tr>\n    <tr>\n      <th>75%</th>\n      <td>1.840000</td>\n    </tr>\n    <tr>\n      <th>max</th>\n      <td>34.990000</td>\n    </tr>\n  </tbody>\n</table>\n</div>"
     },
     "execution_count": 53,
     "metadata": {},
     "output_type": "execute_result"
    }
   ],
   "source": [
    "sensor_storage_temperature.describe()"
   ],
   "metadata": {
    "collapsed": false,
    "pycharm": {
     "name": "#%%\n"
    }
   }
  },
  {
   "cell_type": "markdown",
   "source": [
    "\n",
    "If we revisit the problem statement:\n",
    "`Can we accurately predict the stock levels of products, based on sales data and sensor data,\n",
    "on an hourly basis in order to more intelligently procure products from our suppliers.`\n",
    "\n",
    "The client indicates that they want the model to predict on an hourly basis. Looking at the data model, we can see that only column that we can use to merge the 3 datasets together is timestamp.\n",
    "1. we must first transform the timestamp format to datetime format,\n",
    "2. And then convert these timestamp columns in all 3 datasets to be based on the hour of the day.\n"
   ],
   "metadata": {
    "collapsed": false,
    "pycharm": {
     "name": "#%% md\n"
    }
   }
  },
  {
   "cell_type": "code",
   "execution_count": 54,
   "outputs": [],
   "source": [
    "#A function that converts timestamp to datetime\n",
    "def convert_to_datetime(data:pd.DataFrame=None, column:str=None):\n",
    "    data[column] = pd.to_datetime(data[column],format=\"%Y-%m-%d %H:%M:%S\")"
   ],
   "metadata": {
    "collapsed": false,
    "pycharm": {
     "name": "#%%\n"
    }
   }
  },
  {
   "cell_type": "code",
   "execution_count": 55,
   "outputs": [],
   "source": [
    "convert_to_datetime(sales_data,\"timestamp\")\n",
    "convert_to_datetime(sensor_storage_temperature,\"timestamp\")\n",
    "convert_to_datetime(sensor_stock_levels,\"timestamp\")"
   ],
   "metadata": {
    "collapsed": false,
    "pycharm": {
     "name": "#%%\n"
    }
   }
  },
  {
   "cell_type": "code",
   "execution_count": 56,
   "outputs": [
    {
     "name": "stdout",
     "output_type": "stream",
     "text": [
      "<class 'pandas.core.frame.DataFrame'>\n",
      "RangeIndex: 15000 entries, 0 to 14999\n",
      "Data columns (total 4 columns):\n",
      " #   Column               Non-Null Count  Dtype         \n",
      "---  ------               --------------  -----         \n",
      " 0   id                   15000 non-null  object        \n",
      " 1   timestamp            15000 non-null  datetime64[ns]\n",
      " 2   product_id           15000 non-null  object        \n",
      " 3   estimated_stock_pct  15000 non-null  float64       \n",
      "dtypes: datetime64[ns](1), float64(1), object(2)\n",
      "memory usage: 468.9+ KB\n",
      "<class 'pandas.core.frame.DataFrame'>\n",
      "RangeIndex: 7829 entries, 0 to 7828\n",
      "Data columns (total 9 columns):\n",
      " #   Column          Non-Null Count  Dtype         \n",
      "---  ------          --------------  -----         \n",
      " 0   transaction_id  7829 non-null   object        \n",
      " 1   timestamp       7829 non-null   datetime64[ns]\n",
      " 2   product_id      7829 non-null   object        \n",
      " 3   category        7829 non-null   object        \n",
      " 4   customer_type   7829 non-null   object        \n",
      " 5   unit_price      7829 non-null   float64       \n",
      " 6   quantity        7829 non-null   int64         \n",
      " 7   total           7829 non-null   float64       \n",
      " 8   payment_type    7829 non-null   object        \n",
      "dtypes: datetime64[ns](1), float64(2), int64(1), object(5)\n",
      "memory usage: 550.6+ KB\n",
      "<class 'pandas.core.frame.DataFrame'>\n",
      "RangeIndex: 23890 entries, 0 to 23889\n",
      "Data columns (total 3 columns):\n",
      " #   Column       Non-Null Count  Dtype         \n",
      "---  ------       --------------  -----         \n",
      " 0   id           23890 non-null  object        \n",
      " 1   timestamp    23890 non-null  datetime64[ns]\n",
      " 2   temperature  23890 non-null  float64       \n",
      "dtypes: datetime64[ns](1), float64(1), object(1)\n",
      "memory usage: 560.0+ KB\n"
     ]
    }
   ],
   "source": [
    "#All timestamps have now been converted into datetimes\n",
    "sensor_stock_levels.info()\n",
    "sales_data.info()\n",
    "sensor_storage_temperature.info()"
   ],
   "metadata": {
    "collapsed": false,
    "pycharm": {
     "name": "#%%\n"
    }
   }
  },
  {
   "cell_type": "code",
   "execution_count": 57,
   "outputs": [],
   "source": [
    "#We now convert these datetimes to hours\n",
    "from datetime import datetime\n",
    "\n",
    "def convert_timestamp_to_hourly(data: pd.DataFrame = None, column: str = None):\n",
    "    new_ts = data[column].tolist()\n",
    "    new_ts = map(lambda i:i.strftime('%Y-%m-%d %H:00:00'),new_ts)\n",
    "    new_ts = [datetime.strptime(i, '%Y-%m-%d %H:00:00') for i in new_ts]\n",
    "    data[column] = new_ts"
   ],
   "metadata": {
    "collapsed": false,
    "pycharm": {
     "name": "#%%\n"
    }
   }
  },
  {
   "cell_type": "code",
   "execution_count": 58,
   "outputs": [],
   "source": [
    "convert_timestamp_to_hourly(sales_data,\"timestamp\")\n",
    "convert_timestamp_to_hourly(sensor_storage_temperature,\"timestamp\")\n",
    "convert_timestamp_to_hourly(sensor_stock_levels,\"timestamp\")"
   ],
   "metadata": {
    "collapsed": false,
    "pycharm": {
     "name": "#%%\n"
    }
   }
  },
  {
   "cell_type": "markdown",
   "source": [
    "Now all the timestamp columns have their minutes and seconds reduced to 00. The next thing to do, is to aggregate the datasets in order to combine rows which have the same value for `timestamp`.\n",
    "\n",
    "For the sales data, we want to group the data by timestamp but also by product_id. When we aggregate, we must choose which columns to aggregate by the grouping. For now, let’s aggregate quantity."
   ],
   "metadata": {
    "collapsed": false,
    "pycharm": {
     "name": "#%% md\n"
    }
   }
  },
  {
   "cell_type": "code",
   "execution_count": 59,
   "outputs": [
    {
     "data": {
      "text/plain": "               timestamp                            product_id  quantity\n0    2022-03-01 09:00:00  00e120bb-89d6-4df5-bc48-a051148e3d03      3.00\n1    2022-03-01 09:00:00  01f3cdd9-8e9e-4dff-9b5c-69698a0388d0      3.00\n2    2022-03-01 09:00:00  03a2557a-aa12-4add-a6d4-77dc36342067      3.00\n3    2022-03-01 09:00:00  049b2171-0eeb-4a3e-bf98-0c290c7821da      3.50\n4    2022-03-01 09:00:00  04da844d-8dba-4470-9119-e534d52a03a0      2.75\n...                  ...                                   ...       ...\n6212 2022-03-07 19:00:00  edf4ac93-4e14-4a3d-8c60-e715210cf3f9      3.00\n6213 2022-03-07 19:00:00  f01b189c-6345-4639-a8d1-89e1fc67c443      3.00\n6214 2022-03-07 19:00:00  f3bec808-bee0-4597-a129-53a3a2805a43      2.00\n6215 2022-03-07 19:00:00  fd66ac0b-3498-4613-8ec0-764686b0d864      1.00\n6216 2022-03-07 19:00:00  fd77b5cb-498c-40ca-95d1-0f87f13dd0d8      1.00\n\n[6217 rows x 3 columns]",
      "text/html": "<div>\n<style scoped>\n    .dataframe tbody tr th:only-of-type {\n        vertical-align: middle;\n    }\n\n    .dataframe tbody tr th {\n        vertical-align: top;\n    }\n\n    .dataframe thead th {\n        text-align: right;\n    }\n</style>\n<table border=\"1\" class=\"dataframe\">\n  <thead>\n    <tr style=\"text-align: right;\">\n      <th></th>\n      <th>timestamp</th>\n      <th>product_id</th>\n      <th>quantity</th>\n    </tr>\n  </thead>\n  <tbody>\n    <tr>\n      <th>0</th>\n      <td>2022-03-01 09:00:00</td>\n      <td>00e120bb-89d6-4df5-bc48-a051148e3d03</td>\n      <td>3.00</td>\n    </tr>\n    <tr>\n      <th>1</th>\n      <td>2022-03-01 09:00:00</td>\n      <td>01f3cdd9-8e9e-4dff-9b5c-69698a0388d0</td>\n      <td>3.00</td>\n    </tr>\n    <tr>\n      <th>2</th>\n      <td>2022-03-01 09:00:00</td>\n      <td>03a2557a-aa12-4add-a6d4-77dc36342067</td>\n      <td>3.00</td>\n    </tr>\n    <tr>\n      <th>3</th>\n      <td>2022-03-01 09:00:00</td>\n      <td>049b2171-0eeb-4a3e-bf98-0c290c7821da</td>\n      <td>3.50</td>\n    </tr>\n    <tr>\n      <th>4</th>\n      <td>2022-03-01 09:00:00</td>\n      <td>04da844d-8dba-4470-9119-e534d52a03a0</td>\n      <td>2.75</td>\n    </tr>\n    <tr>\n      <th>...</th>\n      <td>...</td>\n      <td>...</td>\n      <td>...</td>\n    </tr>\n    <tr>\n      <th>6212</th>\n      <td>2022-03-07 19:00:00</td>\n      <td>edf4ac93-4e14-4a3d-8c60-e715210cf3f9</td>\n      <td>3.00</td>\n    </tr>\n    <tr>\n      <th>6213</th>\n      <td>2022-03-07 19:00:00</td>\n      <td>f01b189c-6345-4639-a8d1-89e1fc67c443</td>\n      <td>3.00</td>\n    </tr>\n    <tr>\n      <th>6214</th>\n      <td>2022-03-07 19:00:00</td>\n      <td>f3bec808-bee0-4597-a129-53a3a2805a43</td>\n      <td>2.00</td>\n    </tr>\n    <tr>\n      <th>6215</th>\n      <td>2022-03-07 19:00:00</td>\n      <td>fd66ac0b-3498-4613-8ec0-764686b0d864</td>\n      <td>1.00</td>\n    </tr>\n    <tr>\n      <th>6216</th>\n      <td>2022-03-07 19:00:00</td>\n      <td>fd77b5cb-498c-40ca-95d1-0f87f13dd0d8</td>\n      <td>1.00</td>\n    </tr>\n  </tbody>\n</table>\n<p>6217 rows × 3 columns</p>\n</div>"
     },
     "execution_count": 59,
     "metadata": {},
     "output_type": "execute_result"
    }
   ],
   "source": [
    "sales_agg = sales_data.groupby(['timestamp', 'product_id']).agg({\"quantity\": 'mean'}).reset_index()\n",
    "sales_agg"
   ],
   "metadata": {
    "collapsed": false,
    "pycharm": {
     "name": "#%%\n"
    }
   }
  },
  {
   "cell_type": "markdown",
   "source": [
    "- We now have an aggregated sales data where each row represents a unique combination of hour during which the sales took place from that weeks worth of data and the product_id.\n",
    "- We summed the quantity and we took the mean average of the unit_price.\n",
    "For the stock data, we want to group it in the same way and aggregate the estimated_stock_pct."
   ],
   "metadata": {
    "collapsed": false,
    "pycharm": {
     "name": "#%% md\n"
    }
   }
  },
  {
   "cell_type": "code",
   "execution_count": 60,
   "outputs": [
    {
     "data": {
      "text/plain": "            timestamp                            product_id  \\\n0 2022-03-01 09:00:00  00e120bb-89d6-4df5-bc48-a051148e3d03   \n1 2022-03-01 09:00:00  01f3cdd9-8e9e-4dff-9b5c-69698a0388d0   \n2 2022-03-01 09:00:00  01ff0803-ae73-4234-971d-5713c97b7f4b   \n3 2022-03-01 09:00:00  0363eb21-8c74-47e1-a216-c37e565e5ceb   \n4 2022-03-01 09:00:00  03f0b20e-3b5b-444f-bc39-cdfa2523d4bc   \n\n   estimated_stock_pct  \n0                 0.89  \n1                 0.14  \n2                 0.67  \n3                 0.82  \n4                 0.05  ",
      "text/html": "<div>\n<style scoped>\n    .dataframe tbody tr th:only-of-type {\n        vertical-align: middle;\n    }\n\n    .dataframe tbody tr th {\n        vertical-align: top;\n    }\n\n    .dataframe thead th {\n        text-align: right;\n    }\n</style>\n<table border=\"1\" class=\"dataframe\">\n  <thead>\n    <tr style=\"text-align: right;\">\n      <th></th>\n      <th>timestamp</th>\n      <th>product_id</th>\n      <th>estimated_stock_pct</th>\n    </tr>\n  </thead>\n  <tbody>\n    <tr>\n      <th>0</th>\n      <td>2022-03-01 09:00:00</td>\n      <td>00e120bb-89d6-4df5-bc48-a051148e3d03</td>\n      <td>0.89</td>\n    </tr>\n    <tr>\n      <th>1</th>\n      <td>2022-03-01 09:00:00</td>\n      <td>01f3cdd9-8e9e-4dff-9b5c-69698a0388d0</td>\n      <td>0.14</td>\n    </tr>\n    <tr>\n      <th>2</th>\n      <td>2022-03-01 09:00:00</td>\n      <td>01ff0803-ae73-4234-971d-5713c97b7f4b</td>\n      <td>0.67</td>\n    </tr>\n    <tr>\n      <th>3</th>\n      <td>2022-03-01 09:00:00</td>\n      <td>0363eb21-8c74-47e1-a216-c37e565e5ceb</td>\n      <td>0.82</td>\n    </tr>\n    <tr>\n      <th>4</th>\n      <td>2022-03-01 09:00:00</td>\n      <td>03f0b20e-3b5b-444f-bc39-cdfa2523d4bc</td>\n      <td>0.05</td>\n    </tr>\n  </tbody>\n</table>\n</div>"
     },
     "execution_count": 60,
     "metadata": {},
     "output_type": "execute_result"
    }
   ],
   "source": [
    "sensor_stock_levels_agg = sensor_stock_levels.groupby(['timestamp', 'product_id']).agg({'estimated_stock_pct': 'mean'}).reset_index()\n",
    "sensor_stock_levels_agg.head()"
   ],
   "metadata": {
    "collapsed": false,
    "pycharm": {
     "name": "#%%\n"
    }
   }
  },
  {
   "cell_type": "code",
   "execution_count": 61,
   "outputs": [
    {
     "data": {
      "text/plain": "            timestamp  temperature\n0 2022-03-01 09:00:00    -0.028850\n1 2022-03-01 10:00:00     1.284314\n2 2022-03-01 11:00:00    -0.560000\n3 2022-03-01 12:00:00    -0.537721\n4 2022-03-01 13:00:00    -0.188734",
      "text/html": "<div>\n<style scoped>\n    .dataframe tbody tr th:only-of-type {\n        vertical-align: middle;\n    }\n\n    .dataframe tbody tr th {\n        vertical-align: top;\n    }\n\n    .dataframe thead th {\n        text-align: right;\n    }\n</style>\n<table border=\"1\" class=\"dataframe\">\n  <thead>\n    <tr style=\"text-align: right;\">\n      <th></th>\n      <th>timestamp</th>\n      <th>temperature</th>\n    </tr>\n  </thead>\n  <tbody>\n    <tr>\n      <th>0</th>\n      <td>2022-03-01 09:00:00</td>\n      <td>-0.028850</td>\n    </tr>\n    <tr>\n      <th>1</th>\n      <td>2022-03-01 10:00:00</td>\n      <td>1.284314</td>\n    </tr>\n    <tr>\n      <th>2</th>\n      <td>2022-03-01 11:00:00</td>\n      <td>-0.560000</td>\n    </tr>\n    <tr>\n      <th>3</th>\n      <td>2022-03-01 12:00:00</td>\n      <td>-0.537721</td>\n    </tr>\n    <tr>\n      <th>4</th>\n      <td>2022-03-01 13:00:00</td>\n      <td>-0.188734</td>\n    </tr>\n  </tbody>\n</table>\n</div>"
     },
     "execution_count": 61,
     "metadata": {},
     "output_type": "execute_result"
    }
   ],
   "source": [
    "sensor_storage_temperature_agg = sensor_storage_temperature.groupby(['timestamp']).agg({'temperature': 'mean'}).reset_index()\n",
    "sensor_storage_temperature_agg.head()"
   ],
   "metadata": {
    "collapsed": false,
    "pycharm": {
     "name": "#%%\n"
    }
   }
  },
  {
   "cell_type": "markdown",
   "source": [
    "This gives us the average temperature of the storage facility where the produce is stored in the warehouse by unique hours during the week. Now, we are ready to merge our data. We will use the `stock_agg` table as our base table, and we will merge our other 2 tables onto this."
   ],
   "metadata": {
    "collapsed": false,
    "pycharm": {
     "name": "#%% md\n"
    }
   }
  },
  {
   "cell_type": "code",
   "execution_count": 62,
   "outputs": [
    {
     "data": {
      "text/plain": "            timestamp                            product_id  \\\n0 2022-03-01 09:00:00  00e120bb-89d6-4df5-bc48-a051148e3d03   \n1 2022-03-01 09:00:00  01f3cdd9-8e9e-4dff-9b5c-69698a0388d0   \n2 2022-03-01 09:00:00  01ff0803-ae73-4234-971d-5713c97b7f4b   \n3 2022-03-01 09:00:00  0363eb21-8c74-47e1-a216-c37e565e5ceb   \n4 2022-03-01 09:00:00  03f0b20e-3b5b-444f-bc39-cdfa2523d4bc   \n\n   estimated_stock_pct  quantity  \n0                 0.89       3.0  \n1                 0.14       3.0  \n2                 0.67       NaN  \n3                 0.82       NaN  \n4                 0.05       NaN  ",
      "text/html": "<div>\n<style scoped>\n    .dataframe tbody tr th:only-of-type {\n        vertical-align: middle;\n    }\n\n    .dataframe tbody tr th {\n        vertical-align: top;\n    }\n\n    .dataframe thead th {\n        text-align: right;\n    }\n</style>\n<table border=\"1\" class=\"dataframe\">\n  <thead>\n    <tr style=\"text-align: right;\">\n      <th></th>\n      <th>timestamp</th>\n      <th>product_id</th>\n      <th>estimated_stock_pct</th>\n      <th>quantity</th>\n    </tr>\n  </thead>\n  <tbody>\n    <tr>\n      <th>0</th>\n      <td>2022-03-01 09:00:00</td>\n      <td>00e120bb-89d6-4df5-bc48-a051148e3d03</td>\n      <td>0.89</td>\n      <td>3.0</td>\n    </tr>\n    <tr>\n      <th>1</th>\n      <td>2022-03-01 09:00:00</td>\n      <td>01f3cdd9-8e9e-4dff-9b5c-69698a0388d0</td>\n      <td>0.14</td>\n      <td>3.0</td>\n    </tr>\n    <tr>\n      <th>2</th>\n      <td>2022-03-01 09:00:00</td>\n      <td>01ff0803-ae73-4234-971d-5713c97b7f4b</td>\n      <td>0.67</td>\n      <td>NaN</td>\n    </tr>\n    <tr>\n      <th>3</th>\n      <td>2022-03-01 09:00:00</td>\n      <td>0363eb21-8c74-47e1-a216-c37e565e5ceb</td>\n      <td>0.82</td>\n      <td>NaN</td>\n    </tr>\n    <tr>\n      <th>4</th>\n      <td>2022-03-01 09:00:00</td>\n      <td>03f0b20e-3b5b-444f-bc39-cdfa2523d4bc</td>\n      <td>0.05</td>\n      <td>NaN</td>\n    </tr>\n  </tbody>\n</table>\n</div>"
     },
     "execution_count": 62,
     "metadata": {},
     "output_type": "execute_result"
    }
   ],
   "source": [
    "merged_df = sensor_stock_levels_agg.merge(sales_agg, on=['timestamp', 'product_id'], how='left')\n",
    "merged_df.head()"
   ],
   "metadata": {
    "collapsed": false,
    "pycharm": {
     "name": "#%%\n"
    }
   }
  },
  {
   "cell_type": "code",
   "execution_count": 63,
   "outputs": [
    {
     "data": {
      "text/plain": "            timestamp                            product_id  \\\n0 2022-03-01 09:00:00  00e120bb-89d6-4df5-bc48-a051148e3d03   \n1 2022-03-01 09:00:00  01f3cdd9-8e9e-4dff-9b5c-69698a0388d0   \n2 2022-03-01 09:00:00  01ff0803-ae73-4234-971d-5713c97b7f4b   \n3 2022-03-01 09:00:00  0363eb21-8c74-47e1-a216-c37e565e5ceb   \n4 2022-03-01 09:00:00  03f0b20e-3b5b-444f-bc39-cdfa2523d4bc   \n\n   estimated_stock_pct  quantity  temperature  \n0                 0.89       3.0     -0.02885  \n1                 0.14       3.0     -0.02885  \n2                 0.67       NaN     -0.02885  \n3                 0.82       NaN     -0.02885  \n4                 0.05       NaN     -0.02885  ",
      "text/html": "<div>\n<style scoped>\n    .dataframe tbody tr th:only-of-type {\n        vertical-align: middle;\n    }\n\n    .dataframe tbody tr th {\n        vertical-align: top;\n    }\n\n    .dataframe thead th {\n        text-align: right;\n    }\n</style>\n<table border=\"1\" class=\"dataframe\">\n  <thead>\n    <tr style=\"text-align: right;\">\n      <th></th>\n      <th>timestamp</th>\n      <th>product_id</th>\n      <th>estimated_stock_pct</th>\n      <th>quantity</th>\n      <th>temperature</th>\n    </tr>\n  </thead>\n  <tbody>\n    <tr>\n      <th>0</th>\n      <td>2022-03-01 09:00:00</td>\n      <td>00e120bb-89d6-4df5-bc48-a051148e3d03</td>\n      <td>0.89</td>\n      <td>3.0</td>\n      <td>-0.02885</td>\n    </tr>\n    <tr>\n      <th>1</th>\n      <td>2022-03-01 09:00:00</td>\n      <td>01f3cdd9-8e9e-4dff-9b5c-69698a0388d0</td>\n      <td>0.14</td>\n      <td>3.0</td>\n      <td>-0.02885</td>\n    </tr>\n    <tr>\n      <th>2</th>\n      <td>2022-03-01 09:00:00</td>\n      <td>01ff0803-ae73-4234-971d-5713c97b7f4b</td>\n      <td>0.67</td>\n      <td>NaN</td>\n      <td>-0.02885</td>\n    </tr>\n    <tr>\n      <th>3</th>\n      <td>2022-03-01 09:00:00</td>\n      <td>0363eb21-8c74-47e1-a216-c37e565e5ceb</td>\n      <td>0.82</td>\n      <td>NaN</td>\n      <td>-0.02885</td>\n    </tr>\n    <tr>\n      <th>4</th>\n      <td>2022-03-01 09:00:00</td>\n      <td>03f0b20e-3b5b-444f-bc39-cdfa2523d4bc</td>\n      <td>0.05</td>\n      <td>NaN</td>\n      <td>-0.02885</td>\n    </tr>\n  </tbody>\n</table>\n</div>"
     },
     "execution_count": 63,
     "metadata": {},
     "output_type": "execute_result"
    }
   ],
   "source": [
    "merged_df = merged_df.merge(sensor_storage_temperature_agg, on=['timestamp'], how='left')\n",
    "merged_df.head()"
   ],
   "metadata": {
    "collapsed": false,
    "pycharm": {
     "name": "#%%\n"
    }
   }
  },
  {
   "cell_type": "code",
   "execution_count": 64,
   "outputs": [
    {
     "data": {
      "text/plain": "timestamp                 0\nproduct_id                0\nestimated_stock_pct       0\nquantity               7778\ntemperature               0\ndtype: int64"
     },
     "execution_count": 64,
     "metadata": {},
     "output_type": "execute_result"
    }
   ],
   "source": [
    "merged_df.isna().sum()"
   ],
   "metadata": {
    "collapsed": false,
    "pycharm": {
     "name": "#%%\n"
    }
   }
  },
  {
   "cell_type": "markdown",
   "source": [
    "We can see from the `.isna` method that we have some null values. These need to be treated before we can build a predictive model. The column that features some null values is `quantity`. We can assume that if there is a null value for this column, it represents that there were 0 sales of this product within this hour. So, lets fill this columns null values with 0, however, we should verify this with the client, in order to make sure we’re not making any assumptions by filling these null values with 0."
   ],
   "metadata": {
    "collapsed": false,
    "pycharm": {
     "name": "#%% md\n"
    }
   }
  },
  {
   "cell_type": "code",
   "execution_count": 65,
   "outputs": [
    {
     "data": {
      "text/plain": "timestamp              0\nproduct_id             0\nestimated_stock_pct    0\nquantity               0\ntemperature            0\ndtype: int64"
     },
     "execution_count": 65,
     "metadata": {},
     "output_type": "execute_result"
    }
   ],
   "source": [
    "merged_df['quantity'] = merged_df['quantity'].fillna(0)\n",
    "merged_df.isna().sum()"
   ],
   "metadata": {
    "collapsed": false,
    "pycharm": {
     "name": "#%%\n"
    }
   }
  },
  {
   "cell_type": "markdown",
   "source": [
    "We now add these other columns, `category` and `unit_price.`"
   ],
   "metadata": {
    "collapsed": false,
    "pycharm": {
     "name": "#%% md\n"
    }
   }
  },
  {
   "cell_type": "code",
   "execution_count": 66,
   "outputs": [
    {
     "data": {
      "text/plain": "                                product_id  unit_price\n0     3bc6c1ea-0198-46de-9ffd-514ae3338713        3.99\n1     ad81b46c-bf38-41cf-9b54-5fe7f5eba93e        3.99\n2     7c55cbd4-f306-4c04-a030-628cbe7867c1        0.19\n3     80da8348-1707-403f-8be7-9e6deeccc883        0.19\n4     7f5e86e6-f06f-45f6-bf44-27b095c9ad1d        4.49\n...                                    ...         ...\n7569  d6ccd088-11be-4c25-aa1f-ea87c01a04db       14.99\n7570  20a9bd7b-daff-4b8b-bdc1-2e8f9a0277fa       13.49\n7572  a9325c1a-2715-41df-b7f4-3078fa5ecd97       14.19\n7576  0e4c10f4-77bc-4c67-86b2-b4da5ded19bf       16.99\n7579  bc6187a9-d508-482b-9ca6-590d1cc7524f       14.19\n\n[300 rows x 2 columns]",
      "text/html": "<div>\n<style scoped>\n    .dataframe tbody tr th:only-of-type {\n        vertical-align: middle;\n    }\n\n    .dataframe tbody tr th {\n        vertical-align: top;\n    }\n\n    .dataframe thead th {\n        text-align: right;\n    }\n</style>\n<table border=\"1\" class=\"dataframe\">\n  <thead>\n    <tr style=\"text-align: right;\">\n      <th></th>\n      <th>product_id</th>\n      <th>unit_price</th>\n    </tr>\n  </thead>\n  <tbody>\n    <tr>\n      <th>0</th>\n      <td>3bc6c1ea-0198-46de-9ffd-514ae3338713</td>\n      <td>3.99</td>\n    </tr>\n    <tr>\n      <th>1</th>\n      <td>ad81b46c-bf38-41cf-9b54-5fe7f5eba93e</td>\n      <td>3.99</td>\n    </tr>\n    <tr>\n      <th>2</th>\n      <td>7c55cbd4-f306-4c04-a030-628cbe7867c1</td>\n      <td>0.19</td>\n    </tr>\n    <tr>\n      <th>3</th>\n      <td>80da8348-1707-403f-8be7-9e6deeccc883</td>\n      <td>0.19</td>\n    </tr>\n    <tr>\n      <th>4</th>\n      <td>7f5e86e6-f06f-45f6-bf44-27b095c9ad1d</td>\n      <td>4.49</td>\n    </tr>\n    <tr>\n      <th>...</th>\n      <td>...</td>\n      <td>...</td>\n    </tr>\n    <tr>\n      <th>7569</th>\n      <td>d6ccd088-11be-4c25-aa1f-ea87c01a04db</td>\n      <td>14.99</td>\n    </tr>\n    <tr>\n      <th>7570</th>\n      <td>20a9bd7b-daff-4b8b-bdc1-2e8f9a0277fa</td>\n      <td>13.49</td>\n    </tr>\n    <tr>\n      <th>7572</th>\n      <td>a9325c1a-2715-41df-b7f4-3078fa5ecd97</td>\n      <td>14.19</td>\n    </tr>\n    <tr>\n      <th>7576</th>\n      <td>0e4c10f4-77bc-4c67-86b2-b4da5ded19bf</td>\n      <td>16.99</td>\n    </tr>\n    <tr>\n      <th>7579</th>\n      <td>bc6187a9-d508-482b-9ca6-590d1cc7524f</td>\n      <td>14.19</td>\n    </tr>\n  </tbody>\n</table>\n<p>300 rows × 2 columns</p>\n</div>"
     },
     "execution_count": 66,
     "metadata": {},
     "output_type": "execute_result"
    }
   ],
   "source": [
    "product_categories = sales_data[['product_id', 'category']]\n",
    "product_categories = product_categories.drop_duplicates()\n",
    "\n",
    "product_price = sales_data[['product_id', 'unit_price']]\n",
    "product_price = product_price.drop_duplicates()\n",
    "product_price"
   ],
   "metadata": {
    "collapsed": false,
    "pycharm": {
     "name": "#%%\n"
    }
   }
  },
  {
   "cell_type": "code",
   "execution_count": 67,
   "outputs": [
    {
     "data": {
      "text/plain": "            timestamp                            product_id  \\\n0 2022-03-01 09:00:00  00e120bb-89d6-4df5-bc48-a051148e3d03   \n1 2022-03-01 09:00:00  01f3cdd9-8e9e-4dff-9b5c-69698a0388d0   \n2 2022-03-01 09:00:00  01ff0803-ae73-4234-971d-5713c97b7f4b   \n3 2022-03-01 09:00:00  0363eb21-8c74-47e1-a216-c37e565e5ceb   \n4 2022-03-01 09:00:00  03f0b20e-3b5b-444f-bc39-cdfa2523d4bc   \n\n   estimated_stock_pct  quantity  temperature       category  unit_price  \n0                 0.89       3.0     -0.02885        kitchen       11.19  \n1                 0.14       3.0     -0.02885     vegetables        1.49  \n2                 0.67       0.0     -0.02885  baby products       14.19  \n3                 0.82       0.0     -0.02885      beverages       20.19  \n4                 0.05       0.0     -0.02885           pets        8.19  ",
      "text/html": "<div>\n<style scoped>\n    .dataframe tbody tr th:only-of-type {\n        vertical-align: middle;\n    }\n\n    .dataframe tbody tr th {\n        vertical-align: top;\n    }\n\n    .dataframe thead th {\n        text-align: right;\n    }\n</style>\n<table border=\"1\" class=\"dataframe\">\n  <thead>\n    <tr style=\"text-align: right;\">\n      <th></th>\n      <th>timestamp</th>\n      <th>product_id</th>\n      <th>estimated_stock_pct</th>\n      <th>quantity</th>\n      <th>temperature</th>\n      <th>category</th>\n      <th>unit_price</th>\n    </tr>\n  </thead>\n  <tbody>\n    <tr>\n      <th>0</th>\n      <td>2022-03-01 09:00:00</td>\n      <td>00e120bb-89d6-4df5-bc48-a051148e3d03</td>\n      <td>0.89</td>\n      <td>3.0</td>\n      <td>-0.02885</td>\n      <td>kitchen</td>\n      <td>11.19</td>\n    </tr>\n    <tr>\n      <th>1</th>\n      <td>2022-03-01 09:00:00</td>\n      <td>01f3cdd9-8e9e-4dff-9b5c-69698a0388d0</td>\n      <td>0.14</td>\n      <td>3.0</td>\n      <td>-0.02885</td>\n      <td>vegetables</td>\n      <td>1.49</td>\n    </tr>\n    <tr>\n      <th>2</th>\n      <td>2022-03-01 09:00:00</td>\n      <td>01ff0803-ae73-4234-971d-5713c97b7f4b</td>\n      <td>0.67</td>\n      <td>0.0</td>\n      <td>-0.02885</td>\n      <td>baby products</td>\n      <td>14.19</td>\n    </tr>\n    <tr>\n      <th>3</th>\n      <td>2022-03-01 09:00:00</td>\n      <td>0363eb21-8c74-47e1-a216-c37e565e5ceb</td>\n      <td>0.82</td>\n      <td>0.0</td>\n      <td>-0.02885</td>\n      <td>beverages</td>\n      <td>20.19</td>\n    </tr>\n    <tr>\n      <th>4</th>\n      <td>2022-03-01 09:00:00</td>\n      <td>03f0b20e-3b5b-444f-bc39-cdfa2523d4bc</td>\n      <td>0.05</td>\n      <td>0.0</td>\n      <td>-0.02885</td>\n      <td>pets</td>\n      <td>8.19</td>\n    </tr>\n  </tbody>\n</table>\n</div>"
     },
     "execution_count": 67,
     "metadata": {},
     "output_type": "execute_result"
    }
   ],
   "source": [
    "merged_df = merged_df.merge(product_categories, on=\"product_id\", how=\"left\")\n",
    "merged_df = merged_df.merge(product_price, on=\"product_id\", how=\"left\")\n",
    "merged_df.head()"
   ],
   "metadata": {
    "collapsed": false,
    "pycharm": {
     "name": "#%%\n"
    }
   }
  },
  {
   "cell_type": "markdown",
   "source": [
    "## Section 9 - Feature engineering"
   ],
   "metadata": {
    "collapsed": false,
    "pycharm": {
     "name": "#%% md\n"
    }
   }
  },
  {
   "cell_type": "markdown",
   "source": [
    "We have our cleaned and merged data. Now we must transform this data so that the columns are in a suitable format for a machine learning model. In other terms, every column must be numeric.\n",
    "\n",
    "Let’s first engineer the `timestamp` column. In it’s current form, it is not very useful for a machine learning model. Since it’s a datetime datatype, we can explode this column into day of week, day of month and hour to name a few."
   ],
   "metadata": {
    "collapsed": false,
    "pycharm": {
     "name": "#%% md\n"
    }
   }
  },
  {
   "cell_type": "code",
   "execution_count": 68,
   "outputs": [
    {
     "data": {
      "text/plain": "   estimated_stock_pct  quantity  temperature       category  unit_price  \\\n0                 0.89       3.0     -0.02885        kitchen       11.19   \n1                 0.14       3.0     -0.02885     vegetables        1.49   \n2                 0.67       0.0     -0.02885  baby products       14.19   \n3                 0.82       0.0     -0.02885      beverages       20.19   \n4                 0.05       0.0     -0.02885           pets        8.19   \n\n   timestamp_day_of_month  timestamp_day_of_week  timestamp_hour  \n0                       1                      1               9  \n1                       1                      1               9  \n2                       1                      1               9  \n3                       1                      1               9  \n4                       1                      1               9  ",
      "text/html": "<div>\n<style scoped>\n    .dataframe tbody tr th:only-of-type {\n        vertical-align: middle;\n    }\n\n    .dataframe tbody tr th {\n        vertical-align: top;\n    }\n\n    .dataframe thead th {\n        text-align: right;\n    }\n</style>\n<table border=\"1\" class=\"dataframe\">\n  <thead>\n    <tr style=\"text-align: right;\">\n      <th></th>\n      <th>estimated_stock_pct</th>\n      <th>quantity</th>\n      <th>temperature</th>\n      <th>category</th>\n      <th>unit_price</th>\n      <th>timestamp_day_of_month</th>\n      <th>timestamp_day_of_week</th>\n      <th>timestamp_hour</th>\n    </tr>\n  </thead>\n  <tbody>\n    <tr>\n      <th>0</th>\n      <td>0.89</td>\n      <td>3.0</td>\n      <td>-0.02885</td>\n      <td>kitchen</td>\n      <td>11.19</td>\n      <td>1</td>\n      <td>1</td>\n      <td>9</td>\n    </tr>\n    <tr>\n      <th>1</th>\n      <td>0.14</td>\n      <td>3.0</td>\n      <td>-0.02885</td>\n      <td>vegetables</td>\n      <td>1.49</td>\n      <td>1</td>\n      <td>1</td>\n      <td>9</td>\n    </tr>\n    <tr>\n      <th>2</th>\n      <td>0.67</td>\n      <td>0.0</td>\n      <td>-0.02885</td>\n      <td>baby products</td>\n      <td>14.19</td>\n      <td>1</td>\n      <td>1</td>\n      <td>9</td>\n    </tr>\n    <tr>\n      <th>3</th>\n      <td>0.82</td>\n      <td>0.0</td>\n      <td>-0.02885</td>\n      <td>beverages</td>\n      <td>20.19</td>\n      <td>1</td>\n      <td>1</td>\n      <td>9</td>\n    </tr>\n    <tr>\n      <th>4</th>\n      <td>0.05</td>\n      <td>0.0</td>\n      <td>-0.02885</td>\n      <td>pets</td>\n      <td>8.19</td>\n      <td>1</td>\n      <td>1</td>\n      <td>9</td>\n    </tr>\n  </tbody>\n</table>\n</div>"
     },
     "execution_count": 68,
     "metadata": {},
     "output_type": "execute_result"
    }
   ],
   "source": [
    "merged_df['timestamp_day_of_month'] = merged_df['timestamp'].dt.day\n",
    "merged_df['timestamp_day_of_week'] = merged_df['timestamp'].dt.dayofweek\n",
    "merged_df['timestamp_hour'] = merged_df['timestamp'].dt.hour\n",
    "merged_df.drop(columns=[\"product_id\",\"timestamp\"], inplace=True)\n",
    "merged_df.head()"
   ],
   "metadata": {
    "collapsed": false,
    "pycharm": {
     "name": "#%%\n"
    }
   }
  },
  {
   "cell_type": "markdown",
   "source": [
    "The next column that we can engineer is the `category` column. In its current form it is categorical. We can convert it into numeric by creating dummy variables from this categorical column."
   ],
   "metadata": {
    "collapsed": false,
    "pycharm": {
     "name": "#%% md\n"
    }
   }
  },
  {
   "cell_type": "code",
   "execution_count": 69,
   "outputs": [
    {
     "data": {
      "text/plain": "       estimated_stock_pct  quantity  temperature  unit_price  \\\n0                     0.89       3.0    -0.028850       11.19   \n1                     0.14       3.0    -0.028850        1.49   \n2                     0.67       0.0    -0.028850       14.19   \n3                     0.82       0.0    -0.028850       20.19   \n4                     0.05       0.0    -0.028850        8.19   \n...                    ...       ...          ...         ...   \n10840                 0.50       4.0    -0.165077        4.99   \n10841                 0.26       0.0    -0.165077       19.99   \n10842                 0.78       3.0    -0.165077        6.99   \n10843                 0.92       3.0    -0.165077       14.99   \n10844                 0.01       2.0    -0.165077        5.19   \n\n       timestamp_day_of_month  timestamp_day_of_week  timestamp_hour  \\\n0                           1                      1               9   \n1                           1                      1               9   \n2                           1                      1               9   \n3                           1                      1               9   \n4                           1                      1               9   \n...                       ...                    ...             ...   \n10840                       7                      0              19   \n10841                       7                      0              19   \n10842                       7                      0              19   \n10843                       7                      0              19   \n10844                       7                      0              19   \n\n       category_baby products  category_baked goods  category_baking  ...  \\\n0                           0                     0                0  ...   \n1                           0                     0                0  ...   \n2                           1                     0                0  ...   \n3                           0                     0                0  ...   \n4                           0                     0                0  ...   \n...                       ...                   ...              ...  ...   \n10840                       0                     0                0  ...   \n10841                       0                     0                0  ...   \n10842                       0                     0                0  ...   \n10843                       0                     0                0  ...   \n10844                       0                     0                0  ...   \n\n       category_meat  category_medicine  category_packaged foods  \\\n0                  0                  0                        0   \n1                  0                  0                        0   \n2                  0                  0                        0   \n3                  0                  0                        0   \n4                  0                  0                        0   \n...              ...                ...                      ...   \n10840              0                  0                        0   \n10841              1                  0                        0   \n10842              0                  0                        1   \n10843              1                  0                        0   \n10844              0                  0                        0   \n\n       category_personal care  category_pets  category_refrigerated items  \\\n0                           0              0                            0   \n1                           0              0                            0   \n2                           0              0                            0   \n3                           0              0                            0   \n4                           0              1                            0   \n...                       ...            ...                          ...   \n10840                       0              0                            0   \n10841                       0              0                            0   \n10842                       0              0                            0   \n10843                       0              0                            0   \n10844                       0              0                            0   \n\n       category_seafood  category_snacks  category_spices and herbs  \\\n0                     0                0                          0   \n1                     0                0                          0   \n2                     0                0                          0   \n3                     0                0                          0   \n4                     0                0                          0   \n...                 ...              ...                        ...   \n10840                 0                0                          0   \n10841                 0                0                          0   \n10842                 0                0                          0   \n10843                 0                0                          0   \n10844                 0                0                          0   \n\n       category_vegetables  \n0                        0  \n1                        1  \n2                        0  \n3                        0  \n4                        0  \n...                    ...  \n10840                    0  \n10841                    0  \n10842                    0  \n10843                    0  \n10844                    0  \n\n[10845 rows x 29 columns]",
      "text/html": "<div>\n<style scoped>\n    .dataframe tbody tr th:only-of-type {\n        vertical-align: middle;\n    }\n\n    .dataframe tbody tr th {\n        vertical-align: top;\n    }\n\n    .dataframe thead th {\n        text-align: right;\n    }\n</style>\n<table border=\"1\" class=\"dataframe\">\n  <thead>\n    <tr style=\"text-align: right;\">\n      <th></th>\n      <th>estimated_stock_pct</th>\n      <th>quantity</th>\n      <th>temperature</th>\n      <th>unit_price</th>\n      <th>timestamp_day_of_month</th>\n      <th>timestamp_day_of_week</th>\n      <th>timestamp_hour</th>\n      <th>category_baby products</th>\n      <th>category_baked goods</th>\n      <th>category_baking</th>\n      <th>...</th>\n      <th>category_meat</th>\n      <th>category_medicine</th>\n      <th>category_packaged foods</th>\n      <th>category_personal care</th>\n      <th>category_pets</th>\n      <th>category_refrigerated items</th>\n      <th>category_seafood</th>\n      <th>category_snacks</th>\n      <th>category_spices and herbs</th>\n      <th>category_vegetables</th>\n    </tr>\n  </thead>\n  <tbody>\n    <tr>\n      <th>0</th>\n      <td>0.89</td>\n      <td>3.0</td>\n      <td>-0.028850</td>\n      <td>11.19</td>\n      <td>1</td>\n      <td>1</td>\n      <td>9</td>\n      <td>0</td>\n      <td>0</td>\n      <td>0</td>\n      <td>...</td>\n      <td>0</td>\n      <td>0</td>\n      <td>0</td>\n      <td>0</td>\n      <td>0</td>\n      <td>0</td>\n      <td>0</td>\n      <td>0</td>\n      <td>0</td>\n      <td>0</td>\n    </tr>\n    <tr>\n      <th>1</th>\n      <td>0.14</td>\n      <td>3.0</td>\n      <td>-0.028850</td>\n      <td>1.49</td>\n      <td>1</td>\n      <td>1</td>\n      <td>9</td>\n      <td>0</td>\n      <td>0</td>\n      <td>0</td>\n      <td>...</td>\n      <td>0</td>\n      <td>0</td>\n      <td>0</td>\n      <td>0</td>\n      <td>0</td>\n      <td>0</td>\n      <td>0</td>\n      <td>0</td>\n      <td>0</td>\n      <td>1</td>\n    </tr>\n    <tr>\n      <th>2</th>\n      <td>0.67</td>\n      <td>0.0</td>\n      <td>-0.028850</td>\n      <td>14.19</td>\n      <td>1</td>\n      <td>1</td>\n      <td>9</td>\n      <td>1</td>\n      <td>0</td>\n      <td>0</td>\n      <td>...</td>\n      <td>0</td>\n      <td>0</td>\n      <td>0</td>\n      <td>0</td>\n      <td>0</td>\n      <td>0</td>\n      <td>0</td>\n      <td>0</td>\n      <td>0</td>\n      <td>0</td>\n    </tr>\n    <tr>\n      <th>3</th>\n      <td>0.82</td>\n      <td>0.0</td>\n      <td>-0.028850</td>\n      <td>20.19</td>\n      <td>1</td>\n      <td>1</td>\n      <td>9</td>\n      <td>0</td>\n      <td>0</td>\n      <td>0</td>\n      <td>...</td>\n      <td>0</td>\n      <td>0</td>\n      <td>0</td>\n      <td>0</td>\n      <td>0</td>\n      <td>0</td>\n      <td>0</td>\n      <td>0</td>\n      <td>0</td>\n      <td>0</td>\n    </tr>\n    <tr>\n      <th>4</th>\n      <td>0.05</td>\n      <td>0.0</td>\n      <td>-0.028850</td>\n      <td>8.19</td>\n      <td>1</td>\n      <td>1</td>\n      <td>9</td>\n      <td>0</td>\n      <td>0</td>\n      <td>0</td>\n      <td>...</td>\n      <td>0</td>\n      <td>0</td>\n      <td>0</td>\n      <td>0</td>\n      <td>1</td>\n      <td>0</td>\n      <td>0</td>\n      <td>0</td>\n      <td>0</td>\n      <td>0</td>\n    </tr>\n    <tr>\n      <th>...</th>\n      <td>...</td>\n      <td>...</td>\n      <td>...</td>\n      <td>...</td>\n      <td>...</td>\n      <td>...</td>\n      <td>...</td>\n      <td>...</td>\n      <td>...</td>\n      <td>...</td>\n      <td>...</td>\n      <td>...</td>\n      <td>...</td>\n      <td>...</td>\n      <td>...</td>\n      <td>...</td>\n      <td>...</td>\n      <td>...</td>\n      <td>...</td>\n      <td>...</td>\n      <td>...</td>\n    </tr>\n    <tr>\n      <th>10840</th>\n      <td>0.50</td>\n      <td>4.0</td>\n      <td>-0.165077</td>\n      <td>4.99</td>\n      <td>7</td>\n      <td>0</td>\n      <td>19</td>\n      <td>0</td>\n      <td>0</td>\n      <td>0</td>\n      <td>...</td>\n      <td>0</td>\n      <td>0</td>\n      <td>0</td>\n      <td>0</td>\n      <td>0</td>\n      <td>0</td>\n      <td>0</td>\n      <td>0</td>\n      <td>0</td>\n      <td>0</td>\n    </tr>\n    <tr>\n      <th>10841</th>\n      <td>0.26</td>\n      <td>0.0</td>\n      <td>-0.165077</td>\n      <td>19.99</td>\n      <td>7</td>\n      <td>0</td>\n      <td>19</td>\n      <td>0</td>\n      <td>0</td>\n      <td>0</td>\n      <td>...</td>\n      <td>1</td>\n      <td>0</td>\n      <td>0</td>\n      <td>0</td>\n      <td>0</td>\n      <td>0</td>\n      <td>0</td>\n      <td>0</td>\n      <td>0</td>\n      <td>0</td>\n    </tr>\n    <tr>\n      <th>10842</th>\n      <td>0.78</td>\n      <td>3.0</td>\n      <td>-0.165077</td>\n      <td>6.99</td>\n      <td>7</td>\n      <td>0</td>\n      <td>19</td>\n      <td>0</td>\n      <td>0</td>\n      <td>0</td>\n      <td>...</td>\n      <td>0</td>\n      <td>0</td>\n      <td>1</td>\n      <td>0</td>\n      <td>0</td>\n      <td>0</td>\n      <td>0</td>\n      <td>0</td>\n      <td>0</td>\n      <td>0</td>\n    </tr>\n    <tr>\n      <th>10843</th>\n      <td>0.92</td>\n      <td>3.0</td>\n      <td>-0.165077</td>\n      <td>14.99</td>\n      <td>7</td>\n      <td>0</td>\n      <td>19</td>\n      <td>0</td>\n      <td>0</td>\n      <td>0</td>\n      <td>...</td>\n      <td>1</td>\n      <td>0</td>\n      <td>0</td>\n      <td>0</td>\n      <td>0</td>\n      <td>0</td>\n      <td>0</td>\n      <td>0</td>\n      <td>0</td>\n      <td>0</td>\n    </tr>\n    <tr>\n      <th>10844</th>\n      <td>0.01</td>\n      <td>2.0</td>\n      <td>-0.165077</td>\n      <td>5.19</td>\n      <td>7</td>\n      <td>0</td>\n      <td>19</td>\n      <td>0</td>\n      <td>0</td>\n      <td>0</td>\n      <td>...</td>\n      <td>0</td>\n      <td>0</td>\n      <td>0</td>\n      <td>0</td>\n      <td>0</td>\n      <td>0</td>\n      <td>0</td>\n      <td>0</td>\n      <td>0</td>\n      <td>0</td>\n    </tr>\n  </tbody>\n</table>\n<p>10845 rows × 29 columns</p>\n</div>"
     },
     "execution_count": 69,
     "metadata": {},
     "output_type": "execute_result"
    }
   ],
   "source": [
    "merged_df = pd.get_dummies(merged_df,columns=['category'])\n",
    "merged_df"
   ],
   "metadata": {
    "collapsed": false,
    "pycharm": {
     "name": "#%%\n"
    }
   }
  },
  {
   "cell_type": "markdown",
   "source": [
    "## Section 10 - Modelling"
   ],
   "metadata": {
    "collapsed": false,
    "pycharm": {
     "name": "#%% md\n"
    }
   },
   "outputs": []
  },
  {
   "cell_type": "markdown",
   "source": [
    "Now it is time to train a machine learning model. We used a supervised machine learning model using `estimated_stock_pct` as the target variable, since the problem statement was focused on being able to predict the stock levels of products on an hourly basis.\n",
    "\n",
    "Whilst training the machine learning model, we will use cross-validation, which is a technique where we hold back a portion of the dataset for testing in order to compute how well the trained machine learning model is able to predict the target variable.\n",
    "\n",
    "Finally, to ensure that the trained machine learning model is able to perform robustly, we will want to test it several times on random samples of data, not just once. Hence, we will use a K-fold strategy to train the machine learning model on K (K is an integer to be decided) random samples of the data.\n",
    "First, let’s create our target variable y and independent variables X"
   ],
   "metadata": {
    "collapsed": false,
    "pycharm": {
     "name": "#%% md\n"
    }
   }
  },
  {
   "cell_type": "code",
   "execution_count": 70,
   "outputs": [],
   "source": [
    "from sklearn.ensemble import RandomForestRegressor\n",
    "from sklearn.model_selection import train_test_split\n",
    "from sklearn.metrics import mean_absolute_error\n",
    "from sklearn.preprocessing import StandardScaler"
   ],
   "metadata": {
    "collapsed": false,
    "pycharm": {
     "name": "#%%\n"
    }
   }
  },
  {
   "cell_type": "code",
   "execution_count": 71,
   "outputs": [
    {
     "name": "stdout",
     "output_type": "stream",
     "text": [
      "(10845, 28)\n",
      "(10845,)\n"
     ]
    }
   ],
   "source": [
    "features = merged_df.drop(columns=['estimated_stock_pct'])\n",
    "target = merged_df['estimated_stock_pct']\n",
    "print(features.shape)\n",
    "print(target.shape)"
   ],
   "metadata": {
    "collapsed": false,
    "pycharm": {
     "name": "#%%\n"
    }
   }
  },
  {
   "cell_type": "markdown",
   "source": [
    "For this exercise, we are going to use a RandomForestRegressor model, which is an instance of a Random Forest. These are powerful tree based ensemble algorithms and are particularly good because their results are very interpretable.\n",
    "\n",
    "We are using a regression algorithm here because we are predicting a continuous numeric variable, that is, estimated_stock_pct. A classification algorithm would be suitable for scenarios where you’re predicted a binary outcome, e.g. True/False"
   ],
   "metadata": {
    "collapsed": false,
    "pycharm": {
     "name": "#%% md\n"
    }
   }
  },
  {
   "cell_type": "code",
   "execution_count": 72,
   "outputs": [],
   "source": [
    "K = 10\n",
    "split = 0.75"
   ],
   "metadata": {
    "collapsed": false,
    "pycharm": {
     "name": "#%%\n"
    }
   }
  },
  {
   "cell_type": "code",
   "execution_count": 73,
   "outputs": [
    {
     "name": "stdout",
     "output_type": "stream",
     "text": [
      "Fold 1: MAE = 0.235\n",
      "Fold 2: MAE = 0.237\n",
      "Fold 3: MAE = 0.236\n",
      "Fold 4: MAE = 0.237\n",
      "Fold 5: MAE = 0.237\n",
      "Fold 6: MAE = 0.236\n",
      "Fold 7: MAE = 0.235\n",
      "Fold 8: MAE = 0.236\n",
      "Fold 9: MAE = 0.236\n",
      "Fold 10: MAE = 0.237\n",
      "Average MAE: 0.24\n"
     ]
    }
   ],
   "source": [
    "accuracy = []\n",
    "\n",
    "for fold in range(0, K):\n",
    "\n",
    "    # Instantiate algorithm\n",
    "    model = RandomForestRegressor()\n",
    "    scaler = StandardScaler()\n",
    "\n",
    "    # Create training and test samples\n",
    "    features_train, features_test, target_train, target_test = train_test_split(features, target, train_size=split, random_state=42)\n",
    "\n",
    "    # Scale X data, we scale the data because it helps the algorithm to converge\n",
    "    # and helps the algorithm to not be greedy with large values\n",
    "    scaler.fit(features_train)\n",
    "    X_train = scaler.transform(features_train)\n",
    "    X_test = scaler.transform(features_test)\n",
    "\n",
    "    # Train model\n",
    "    trained_model = model.fit(features_train, target_train)\n",
    "\n",
    "    # Generate predictions on test sample\n",
    "    y_pred = trained_model.predict(features_test)\n",
    "\n",
    "    # Compute accuracy, using mean absolute error\n",
    "    mae = mean_absolute_error(target_test,y_pred)\n",
    "    accuracy.append(mae)\n",
    "    print(f\"Fold {fold + 1}: MAE = {mae:.3f}\")\n",
    "\n",
    "print(f\"Average MAE: {(sum(accuracy) / len(accuracy)):.2f}\")"
   ],
   "metadata": {
    "collapsed": false,
    "pycharm": {
     "name": "#%%\n"
    }
   }
  },
  {
   "cell_type": "code",
   "execution_count": 74,
   "outputs": [
    {
     "data": {
      "text/plain": "<Figure size 1000x2000 with 1 Axes>",
      "image/png": "[encoded data removed]"
     },
     "metadata": {},
     "output_type": "display_data"
    }
   ],
   "source": [
    "features = [i.split()[0] for i in features.columns]\n",
    "importances = model.feature_importances_\n",
    "\n",
    "indices = np.argsort(importances)\n",
    "\n",
    "fig, ax = plt.subplots(figsize=(10, 20))\n",
    "plt.title('Feature Importances')\n",
    "plt.barh(range(len(indices)), importances[indices], color='b', align='center')\n",
    "plt.yticks(range(len(indices)), [features[i] for i in indices])\n",
    "plt.xlabel('Relative Importance')\n",
    "plt.show()"
   ],
   "metadata": {
    "collapsed": false,
    "pycharm": {
     "name": "#%%\n"
    }
   }
  },
  {
   "cell_type": "markdown",
   "source": [
    "This feature importance visualisation tells us:\n",
    "1. The product categories were not that important\n",
    "2. The unit price and temperature were important in predicting stock\n",
    "3. The hour of day was also important for predicting stock"
   ],
   "metadata": {
    "collapsed": false,
    "pycharm": {
     "name": "#%% md\n"
    }
   },
   "execution_count": 184
  }
 ]
}